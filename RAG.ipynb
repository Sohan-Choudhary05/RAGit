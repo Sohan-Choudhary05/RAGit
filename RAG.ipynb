{
 "cells": [
  {
   "cell_type": "markdown",
   "id": "a0886c21",
   "metadata": {},
   "source": [
    "# RAGit"
   ]
  },
  {
   "cell_type": "markdown",
   "id": "311fcfed",
   "metadata": {},
   "source": [
    "### Let's create a function load repo"
   ]
  },
  {
   "cell_type": "code",
   "execution_count": 2,
   "id": "6d941730",
   "metadata": {},
   "outputs": [],
   "source": [
    "import os\n",
    "import shutil\n",
    "from git import Repo"
   ]
  },
  {
   "cell_type": "code",
   "execution_count": 3,
   "id": "fa186383",
   "metadata": {},
   "outputs": [],
   "source": [
    "def clone_repo(repo_url, clone_dir=\"repo_temp\"):\n",
    "    try:\n",
    "        if os.path.exists(clone_dir):\n",
    "            shutil.rmtree(clone_dir)\n",
    "        print(\"Cloning repositry...\")\n",
    "        Repo.clone_from(repo_url, clone_dir)\n",
    "        print(f\"✅ Repo cloned to: {clone_dir}\")\n",
    "        return clone_dir\n",
    "    except GitCommandError as e:\n",
    "        print(f\"❌ Git error: {e}\")\n",
    "        return None\n",
    "    except Exception as e:\n",
    "        print(f\"❌ Unexpected error: {e}\")\n",
    "        return None"
   ]
  },
  {
   "cell_type": "code",
   "execution_count": 4,
   "id": "8e773a86",
   "metadata": {},
   "outputs": [
    {
     "name": "stdout",
     "output_type": "stream",
     "text": [
      "Cloning repositry...\n",
      "✅ Repo cloned to: C:\\Users\\Ram Choudhary\\OneDrive\\Desktop\\RAGit\\rpo_tmp\n"
     ]
    },
    {
     "data": {
      "text/plain": [
       "'C:\\\\Users\\\\Ram Choudhary\\\\OneDrive\\\\Desktop\\\\RAGit\\\\rpo_tmp'"
      ]
     },
     "execution_count": 4,
     "metadata": {},
     "output_type": "execute_result"
    }
   ],
   "source": [
    "repo_url = \"https://github.com/Sohan-Choudhary05/RAGit\"\n",
    "repo_temp = r\"C:\\Users\\Ram Choudhary\\OneDrive\\Desktop\\RAGit\\rpo_tmp\"\n",
    "clone_repo(repo_url, repo_temp)"
   ]
  },
  {
   "cell_type": "code",
   "execution_count": null,
   "id": "b49fd0a4",
   "metadata": {},
   "outputs": [],
   "source": []
  },
  {
   "cell_type": "code",
   "execution_count": null,
   "id": "ff1d107d",
   "metadata": {},
   "outputs": [],
   "source": []
  }
 ],
 "metadata": {
  "kernelspec": {
   "display_name": "ragit_env",
   "language": "python",
   "name": "python3"
  },
  "language_info": {
   "codemirror_mode": {
    "name": "ipython",
    "version": 3
   },
   "file_extension": ".py",
   "mimetype": "text/x-python",
   "name": "python",
   "nbconvert_exporter": "python",
   "pygments_lexer": "ipython3",
   "version": "3.12.7"
  }
 },
 "nbformat": 4,
 "nbformat_minor": 5
}
