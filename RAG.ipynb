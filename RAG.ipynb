{
 "cells": [
  {
   "cell_type": "markdown",
   "id": "a0886c21",
   "metadata": {},
   "source": [
    "# RAGit"
   ]
  },
  {
   "cell_type": "markdown",
   "id": "311fcfed",
   "metadata": {},
   "source": [
    "### Let's create a function load repo"
   ]
  },
  {
   "cell_type": "code",
   "execution_count": null,
   "id": "6d941730",
   "metadata": {},
   "outputs": [],
   "source": [
    "import os\n",
    "import shutil\n",
    "from git import Repo"
   ]
  },
  {
   "cell_type": "code",
   "execution_count": null,
   "id": "fa186383",
   "metadata": {},
   "outputs": [],
   "source": [
    "def clone_repo(repo_url, clone_dir=\"repo_temp\"):\n",
    "    try:\n",
    "        if os.path.exists(clone_dir):\n",
    "            shutil.rmtree(clone_dir)\n",
    "        print(\"Cloning repositry...\")\n",
    "        Repo.clone_from(repo_url, clone_dir)\n",
    "        print(f\"✅ Repo cloned to: {clone_dir}\")\n",
    "        return clone_dir\n",
    "    except GitCommandError as e:\n",
    "        print(f\"❌ Git error: {e}\")\n",
    "        return None\n",
    "    except Exception as e:\n",
    "        print(f\"❌ Unexpected error: {e}\")\n",
    "        return None"
   ]
  },
  {
   "cell_type": "code",
   "execution_count": null,
   "id": "8e773a86",
   "metadata": {},
   "outputs": [],
   "source": [
    "repo_url = \"https://github.com/Sohan-Choudhary05/RAGit\"\n",
    "repo_temp = r\"C:\\Users\\Ram Choudhary\\OneDrive\\Desktop\\RAGit\\rpo_tmp\"\n",
    "clone_repo(repo_url, repo_temp)"
   ]
  },
  {
   "cell_type": "markdown",
   "id": "ee6051b9",
   "metadata": {},
   "source": [
    "### Extract the files from that Repo"
   ]
  },
  {
   "cell_type": "code",
   "execution_count": null,
   "id": "ff1d107d",
   "metadata": {},
   "outputs": [],
   "source": [
    "def load_repo_files(clone_dir):\n",
    "    supported_extensions = ['.py','.md','.js','.ts','.html','.txt']\n",
    "    files_data = []\n",
    "\n",
    "    for root,_,files in os.walk(clone_dir):\n",
    "        for file in files:\n",
    "            if any(file.endswith(ext) for ext in supported_extensions):\n",
    "                file_path = os.path.join(root,file)\n",
    "                try:\n",
    "                    with open(file_path,'r',encoding = \"utf-8\", errors='ignore') as f:\n",
    "                        content = f.read()\n",
    "                        files_data.append({\n",
    "                            \"path\":file_path,\n",
    "                            \"content\":content\n",
    "                        })\n",
    "                except Exception as e:\n",
    "                    print(f\"[!] Failed to read file:{file_path} — {str(e)} \")\n",
    "    return files_data"
   ]
  },
  {
   "cell_type": "code",
   "execution_count": 11,
   "id": "d0af283b",
   "metadata": {},
   "outputs": [],
   "source": [
    "loaded_files = load_repo_files(r\"C:\\Users\\Ram Choudhary\\OneDrive\\Desktop\\RAGit\\rpo_tmp\")"
   ]
  },
  {
   "cell_type": "markdown",
   "id": "252e43f5",
   "metadata": {},
   "source": [
    "### Let's chunk the documents/code files"
   ]
  },
  {
   "cell_type": "code",
   "execution_count": 12,
   "id": "a6378d1f",
   "metadata": {},
   "outputs": [],
   "source": [
    "from langchain.text_splitter import RecursiveCharacterTextSplitter\n",
    "\n",
    "def chunk_documents(file_data,chunk_size=500,chunk_overlap=50):\n",
    "    text_splitter = RecursiveCharacterTextSplitter(\n",
    "        chunk_size = chunk_size,\n",
    "        chunk_overlap = chunk_overlap,\n",
    "        separators=[\"\\n\\n\",\"\\n\",\" \",\"\"]\n",
    "    )\n",
    "\n",
    "    chunks = []\n",
    "    for file in file_data:\n",
    "        splits = text_splitter.split_text(file[\"content\"])\n",
    "        for item, chunk in enumerate(splits):\n",
    "            chunks.append({\n",
    "                \"text\":chunk,\n",
    "                \"metadata\":{\n",
    "                    \"source\":file[\"path\"],\n",
    "                    \"chunk_id\":item\n",
    "                }\n",
    "            })\n",
    "    return chunks"
   ]
  },
  {
   "cell_type": "code",
   "execution_count": null,
   "id": "55593b42",
   "metadata": {},
   "outputs": [],
   "source": [
    "chunk_documents(loaded_files,chunk_size=500,chunk_overlap=50)"
   ]
  }
 ],
 "metadata": {
  "kernelspec": {
   "display_name": "ragit_env",
   "language": "python",
   "name": "python3"
  },
  "language_info": {
   "codemirror_mode": {
    "name": "ipython",
    "version": 3
   },
   "file_extension": ".py",
   "mimetype": "text/x-python",
   "name": "python",
   "nbconvert_exporter": "python",
   "pygments_lexer": "ipython3",
   "version": "3.12.7"
  }
 },
 "nbformat": 4,
 "nbformat_minor": 5
}
